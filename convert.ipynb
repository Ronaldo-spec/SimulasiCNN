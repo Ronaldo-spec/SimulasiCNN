{
 "cells": [
  {
   "attachments": {},
   "cell_type": "markdown",
   "metadata": {},
   "source": [
    "MERUBAH FORMAT"
   ]
  },
  {
   "cell_type": "code",
   "execution_count": 3,
   "metadata": {},
   "outputs": [
    {
     "name": "stdout",
     "output_type": "stream",
     "text": [
      "Konversi selesai!\n"
     ]
    }
   ],
   "source": [
    "from PIL import Image\n",
    "import os\n",
    "\n",
    "# Direktori tempat gambar BMP tersimpan\n",
    "bmp_dir = \"jpg.rect/gradeC/\"\n",
    "\n",
    "# Direktori tempat gambar JPG akan disimpan\n",
    "jpg_dir = \"dataset/dataset.rect/gradeC/\"\n",
    "\n",
    "# Mengecek apakah direktori tempat gambar BMP akan disimpan sudah ada atau belum\n",
    "if not os.path.exists(jpg_dir):\n",
    "    os.makedirs(jpg_dir)\n",
    "\n",
    "# Looping melalui setiap file dalam direktori PNG\n",
    "for file in os.listdir(bmp_dir):\n",
    "    if file.endswith(\".bmp\"):\n",
    "        # Membuka gambar dengan PIL\n",
    "        image = Image.open(os.path.join(bmp_dir, file))\n",
    "        \n",
    "        # Mengkonversi gambar ke format JPG\n",
    "        image = image.convert(\"RGB\")\n",
    "        \n",
    "        # Menyimpan gambar ke direktori BMP\n",
    "        new_file_name = os.path.splitext(file)[0] + \".jpg\"\n",
    "        image.save(os.path.join(jpg_dir, new_file_name))\n",
    "\n",
    "print(\"Konversi selesai!\")"
   ]
  },
  {
   "attachments": {},
   "cell_type": "markdown",
   "metadata": {},
   "source": [
    "MERUBAH NAMA"
   ]
  },
  {
   "cell_type": "code",
   "execution_count": null,
   "metadata": {},
   "outputs": [],
   "source": [
    "\n",
    " \n",
    "# Function to rename multiple files\n",
    "import os\n",
    "def main():\n",
    "   \n",
    "    folder = \"dataset/dataset.rect/C/\"\n",
    "    for count, filename in enumerate(os.listdir(folder)):\n",
    "        dst = f\"gradeC.{str(count)}.jpg\"\n",
    "        src =f\"{folder}/{filename}\"  # foldername/filename, if .py file is outside folder\n",
    "        dst =f\"{folder}/{dst}\"\n",
    "         \n",
    "        # rename() function will\n",
    "        # rename all the files\n",
    "        os.rename(src, dst)\n",
    " \n",
    "# Driver Code\n",
    "if __name__ == '__main__':\n",
    "     \n",
    "    # Calling main() function\n",
    "    main()"
   ]
  },
  {
   "cell_type": "code",
   "execution_count": null,
   "metadata": {},
   "outputs": [],
   "source": [
    "from PIL import Image\n",
    "import os\n",
    "\n",
    "# Set path to the directory containing images\n",
    "image_dir = 'grayscale/'\n",
    "\n",
    "# Loop through all images in the directory\n",
    "for filename in os.listdir(image_dir):\n",
    "    if filename.endswith('.jpg'):\n",
    "        # Load image as RGB\n",
    "        img = Image.open(os.path.join(image_dir, filename)).convert('RGB')\n",
    "        \n",
    "        # Convert to grayscale\n",
    "        grayscale_img = img.convert('L')\n",
    "        \n",
    "        # Save grayscale image\n",
    "        grayscale_img.save(os.path.join(image_dir, filename.split('.')[0] + '_grayscale.jpg'))\n"
   ]
  },
  {
   "cell_type": "code",
   "execution_count": null,
   "metadata": {},
   "outputs": [],
   "source": [
    "from PIL import Image\n",
    "import os\n",
    "\n",
    "# Set path to the directory containing images\n",
    "image_dir = 'resize/'\n",
    "\n",
    "# Set new size\n",
    "new_size = (352, 288)\n",
    "\n",
    "# Loop through all images in the directory\n",
    "for filename in os.listdir(image_dir):\n",
    "    if filename.endswith('.bmp'):\n",
    "        # Load image\n",
    "        img = Image.open(os.path.join(image_dir, filename))\n",
    "        \n",
    "        # Resize image\n",
    "        resized_img = img.resize(new_size)\n",
    "        \n",
    "        # Save resized image\n",
    "        resized_img.save(os.path.join(image_dir, filename.split('.')[0] + '_resized.bmp'))\n"
   ]
  }
 ],
 "metadata": {
  "kernelspec": {
   "display_name": "Python 3",
   "language": "python",
   "name": "python3"
  },
  "language_info": {
   "codemirror_mode": {
    "name": "ipython",
    "version": 3
   },
   "file_extension": ".py",
   "mimetype": "text/x-python",
   "name": "python",
   "nbconvert_exporter": "python",
   "pygments_lexer": "ipython3",
   "version": "3.11.1"
  },
  "orig_nbformat": 4
 },
 "nbformat": 4,
 "nbformat_minor": 2
}
